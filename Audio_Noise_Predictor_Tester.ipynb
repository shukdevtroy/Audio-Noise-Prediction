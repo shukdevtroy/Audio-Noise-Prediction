{
  "nbformat": 4,
  "nbformat_minor": 0,
  "metadata": {
    "colab": {
      "provenance": []
    },
    "kernelspec": {
      "name": "python3",
      "display_name": "Python 3"
    },
    "language_info": {
      "name": "python"
    }
  },
  "cells": [
    {
      "cell_type": "code",
      "execution_count": 9,
      "metadata": {
        "id": "hdg1PFqDCbrM",
        "colab": {
          "base_uri": "https://localhost:8080/"
        },
        "outputId": "797724c1-b03f-4581-8d22-f7d87bae5121"
      },
      "outputs": [
        {
          "output_type": "stream",
          "name": "stdout",
          "text": [
            "Drive already mounted at /content/drive/; to attempt to forcibly remount, call drive.mount(\"/content/drive/\", force_remount=True).\n"
          ]
        }
      ],
      "source": [
        "from google.colab import drive\n",
        "drive.mount('/content/drive/')"
      ]
    },
    {
      "cell_type": "code",
      "source": [
        "import librosa\n",
        "import tensorflow as tf"
      ],
      "metadata": {
        "id": "HnMhk7bdVPMh"
      },
      "execution_count": 10,
      "outputs": []
    },
    {
      "cell_type": "code",
      "source": [
        "# Load the model\n",
        "loaded_model = tf.keras.models.load_model('/content/drive/MyDrive/audiopred/audio_classification_model.h5')"
      ],
      "metadata": {
        "colab": {
          "base_uri": "https://localhost:8080/"
        },
        "id": "-okE6DohVE4E",
        "outputId": "cc981cfe-a451-4213-8682-5984a2823791"
      },
      "execution_count": 11,
      "outputs": [
        {
          "output_type": "stream",
          "name": "stderr",
          "text": [
            "WARNING:absl:Compiled the loaded model, but the compiled metrics have yet to be built. `model.compile_metrics` will be empty until you train or evaluate the model.\n"
          ]
        }
      ]
    },
    {
      "cell_type": "code",
      "source": [
        "import numpy as np"
      ],
      "metadata": {
        "id": "sQgIKG5OVpW-"
      },
      "execution_count": 12,
      "outputs": []
    },
    {
      "cell_type": "markdown",
      "source": [
        "Class Description:\n",
        "\n",
        "`labels` = {`clean_audio`: 0, `gaussian_noise`: 1, `impulse_noise`: 2}"
      ],
      "metadata": {
        "id": "jU0Fhq6qVzTy"
      }
    },
    {
      "cell_type": "code",
      "source": [
        "def predict_audio(file_path, model, max_length=100):\n",
        "    audio, sr = librosa.load(file_path, sr=None)\n",
        "    mfccs = librosa.feature.mfcc(y=audio, sr=sr, n_mfcc=13)\n",
        "\n",
        "    # Pad or truncate the MFCCs\n",
        "    if mfccs.shape[1] > max_length:\n",
        "        mfccs = mfccs[:, :max_length]  # Truncate\n",
        "    elif mfccs.shape[1] < max_length:\n",
        "        pad_width = max_length - mfccs.shape[1]\n",
        "        mfccs = np.pad(mfccs, ((0, 0), (0, pad_width)), mode='constant')  # Pad\n",
        "\n",
        "    mfccs_reshaped = mfccs.reshape(1, max_length, 13)  # Reshape for model input\n",
        "    prediction = model.predict(mfccs_reshaped)\n",
        "    class_index = np.argmax(prediction)\n",
        "\n",
        "    # Map class indices to labels\n",
        "    labels = {0: 'clean_audio', 1: 'gaussian_noise', 2: 'impulse_noise'}\n",
        "    predicted_label = labels[class_index]\n",
        "\n",
        "    return predicted_label\n",
        "\n",
        "# Example usage\n",
        "result = predict_audio('/content/drive/MyDrive/audiopred/noisy_audio_impulse_clean_audio2.wav', loaded_model)\n",
        "print(f'Predicted class: {result}')\n"
      ],
      "metadata": {
        "colab": {
          "base_uri": "https://localhost:8080/"
        },
        "id": "i_yztZtzCMM6",
        "outputId": "0f70f136-ad4f-4cc9-e2f6-1dde9ff4ee40"
      },
      "execution_count": 15,
      "outputs": [
        {
          "output_type": "stream",
          "name": "stdout",
          "text": [
            "\u001b[1m1/1\u001b[0m \u001b[32m━━━━━━━━━━━━━━━━━━━━\u001b[0m\u001b[37m\u001b[0m \u001b[1m0s\u001b[0m 30ms/step\n",
            "Predicted class: impulse_noise\n"
          ]
        }
      ]
    }
  ]
}